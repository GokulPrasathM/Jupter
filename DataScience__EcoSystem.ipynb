{
 "cells": [
  {
   "cell_type": "markdown",
   "id": "b2df9ca3-b0f4-468e-92a6-4342dbe6a75b",
   "metadata": {},
   "source": [
    "<h1>Data Science Tools and Ecosystem</h1>"
   ]
  },
  {
   "cell_type": "markdown",
   "id": "961c7914-844f-4b69-967e-0b7662be623a",
   "metadata": {},
   "source": [
    "In this notebook, Data Science Tools and Ecosystem are summarized."
   ]
  },
  {
   "cell_type": "markdown",
   "id": "22348872-f218-4deb-9a7a-a2735cb30f81",
   "metadata": {},
   "source": [
    "Some of the popular languages that Data Scientists use are:\n",
    "    <li>Python</li>\n",
    "    <li>R</li>\n",
    "    <li>SQL</li>\n"
   ]
  },
  {
   "cell_type": "markdown",
   "id": "b77a66d0-9c6b-416f-98a1-fdf5e92a37ee",
   "metadata": {},
   "source": [
    "Some of the commonly used libraries used by Data Scientists include:\n",
    "    <li>Pandas\n",
    "    <LI>Skicit-learn\n",
    "    <LI>TensorFLOW"
   ]
  },
  {
   "cell_type": "markdown",
   "id": "272eb8a1-92d3-47bb-aafe-9cb36d818e9c",
   "metadata": {},
   "source": [
    "Data Science Tools\n",
    "<table>\n",
    "        <tr> <td>Python </td></tr>\n",
    "        <tr> <td>R </td></tr>\n",
    "        <tr> <td>SQL </td></tr>\n",
    "   \n",
    "</table>"
   ]
  },
  {
   "cell_type": "markdown",
   "id": "6a213b76-9927-47e8-9d5a-bc1a5ed7c379",
   "metadata": {},
   "source": [
    "<h3>Below are a few examples of evaluating arithmetic expressions in Python</h3>"
   ]
  },
  {
   "cell_type": "code",
   "execution_count": 1,
   "id": "bae19fec-64dc-4e59-a701-b484c7d049f4",
   "metadata": {},
   "outputs": [
    {
     "name": "stdout",
     "output_type": "stream",
     "text": [
      "17\n"
     ]
    }
   ],
   "source": [
    "print((3*4)+5) ##This a simple arithmetic expression to mutiply then add integers"
   ]
  },
  {
   "cell_type": "code",
   "execution_count": 3,
   "id": "bc7323e4-9984-48f8-ae3b-d5e9e93ff000",
   "metadata": {},
   "outputs": [
    {
     "name": "stdout",
     "output_type": "stream",
     "text": [
      "3.3333333333333335\n"
     ]
    }
   ],
   "source": [
    "print(200/60)##This will convert 200 minutes to hours by diving by 60"
   ]
  },
  {
   "cell_type": "markdown",
   "id": "dc765428-6e84-4929-b150-b1bbf881e459",
   "metadata": {},
   "source": [
    "Objectives:\n",
    "<UL>To create and edit a notebook\n",
    "<UL>To work with code\n",
    "<UL>To reduce our work"
   ]
  },
  {
   "cell_type": "markdown",
   "id": "2badb166-d0ed-44ea-bd50-fe34b4e76c07",
   "metadata": {},
   "source": [
    "<H2>GOKUL PRASATH M"
   ]
  },
  {
   "cell_type": "code",
   "execution_count": null,
   "id": "cbb7d40b-3054-488d-b79b-537d8b885810",
   "metadata": {},
   "outputs": [],
   "source": []
  }
 ],
 "metadata": {
  "kernelspec": {
   "display_name": "Python",
   "language": "python",
   "name": "conda-env-python-py"
  },
  "language_info": {
   "codemirror_mode": {
    "name": "ipython",
    "version": 3
   },
   "file_extension": ".py",
   "mimetype": "text/x-python",
   "name": "python",
   "nbconvert_exporter": "python",
   "pygments_lexer": "ipython3",
   "version": "3.7.12"
  }
 },
 "nbformat": 4,
 "nbformat_minor": 5
}
